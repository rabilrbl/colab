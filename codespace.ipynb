{
 "cells": [
  {
   "cell_type": "code",
   "execution_count": 2,
   "metadata": {},
   "outputs": [],
   "source": [
    "#@title Codespace\n",
    "#@markdown **Make sure you have installed cloudflare tunnel** (cloudflared)\n",
    "password = \"root\" #@param {type:\"string\"}\n",
    "repo = \"https://github.com/rabilrbl/colab.git\" #@param {type:\"string\"}\n",
    "language = \"python\" #@param {type:\"string\"} [\"python\", \"javascript\"]\n",
    "\n",
    "if language == \"python\":\n",
    "    !git clone $repo\n",
    "    repo_name = repo.split(\"/\")[-1].split(\".\")[0]\n",
    "    print(repo_name)"
   ]
  },
  {
   "cell_type": "code",
   "execution_count": null,
   "metadata": {},
   "outputs": [],
   "source": []
  }
 ],
 "metadata": {
  "interpreter": {
   "hash": "e7370f93d1d0cde622a1f8e1c04877d8463912d04d973331ad4851f04de6915a"
  },
  "kernelspec": {
   "display_name": "Python 3.10.2 64-bit",
   "language": "python",
   "name": "python3"
  },
  "language_info": {
   "codemirror_mode": {
    "name": "ipython",
    "version": 3
   },
   "file_extension": ".py",
   "mimetype": "text/x-python",
   "name": "python",
   "nbconvert_exporter": "python",
   "pygments_lexer": "ipython3",
   "version": "3.9.7"
  },
  "orig_nbformat": 4
 },
 "nbformat": 4,
 "nbformat_minor": 2
}
