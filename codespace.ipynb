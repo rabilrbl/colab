{
 "cells": [
  {
   "cell_type": "code",
   "execution_count": 2,
   "metadata": {},
   "outputs": [],
   "source": [
    "#@title CODESPACE\n",
    "#@markdown Execute this cell to open the ssh tunnel. Check [colab-ssh documentation](https://github.com/WassimBenzarti/colab-ssh) for more details.\n",
    "\n",
    "# Install colab_ssh on google colab\n",
    "!pip install colab_ssh --upgrade\n",
    "from colab_ssh import launch_ssh_cloudflared, init_git_cloudflared\n",
    "import os\n",
    "#@markdown ***Set password for root to login.***\n",
    "Password = \"root\" #@param {type: \"string\"}\n",
    "#@markdown **Is your project running JS ?**\n",
    "Javascript = False #@param {type: \"boolean\"}\n",
    "#@markdown **Mount Google Drive ?**\n",
    "Drive = False #@param {type: \"boolean\"}\n",
    "if Drive:\n",
    "  from google.colab import drive\n",
    "  drive.mount('/content/drive')\n",
    "#@markdown ---\n",
    "launch_ssh_cloudflared(password=Password)\n",
    "\n",
    "# Optional: if you want to clone a Github or Gitlab repository\n",
    "#@markdown Enter your git repo url\n",
    "repository_url=\"https://github.com/rabilrbl/wd302_level_1.git\" #@param {type: \"string\"}\n",
    "init_git_cloudflared(repository_url)\n",
    "if Javascript:\n",
    "  print(\"Installing node and npm....\")\n",
    "  os.system(\"curl -fsSL https://deb.nodesource.com/setup_current.x | sudo -E bash -\")\n",
    "  os.system(\"apt-get install -y nodejs\")\n",
    "  print(\"Finished with installing node\\n\")\n",
    "  print(\"Installing Node dependencies\")\n",
    "  repo_name = repository_url.split(\"/\")[-1].split(\".\")[0]\n",
    "  os.system(f\"cd {repo_name} && npm install\")\n",
    "print(\"Instance will keep running to keep server active.\")\n",
    "os.system(\"sleep 324234324\")"
   ]
  },
  {
   "cell_type": "code",
   "execution_count": null,
   "metadata": {},
   "outputs": [],
   "source": []
  }
 ],
 "metadata": {
  "interpreter": {
   "hash": "e7370f93d1d0cde622a1f8e1c04877d8463912d04d973331ad4851f04de6915a"
  },
  "kernelspec": {
   "display_name": "Python 3.10.2 64-bit",
   "language": "python",
   "name": "python3"
  },
  "language_info": {
   "codemirror_mode": {
    "name": "ipython",
    "version": 3
   },
   "file_extension": ".py",
   "mimetype": "text/x-python",
   "name": "python",
   "nbconvert_exporter": "python",
   "pygments_lexer": "ipython3",
   "version": "3.9.7"
  },
  "orig_nbformat": 4
 },
 "nbformat": 4,
 "nbformat_minor": 2
}
