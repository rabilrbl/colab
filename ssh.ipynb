{
 "cells": [
  {
   "cell_type": "code",
   "execution_count": null,
   "metadata": {},
   "outputs": [],
   "source": [
    "#@title SSH { run: \"auto\", vertical-output: true, form-width: \"60%\", display-mode: \"form\" }\n",
    "%pip install git+https://github.com/creative-builds/colab-ssh --upgrade\n",
    "#@markdown ---\n",
    "#@markdown # Setting up codespace machine\n",
    "#@markdown ***Set password for root to login.***\n",
    "Password = \"root\" #@param {type: \"string\"}\n",
    "#@markdown **Mount Google Drive ?**<br>\n",
    "#@markdown `Will behave like a normal drive attached to system with all your GDrive files`\n",
    "Drive = False #@param {type: \"boolean\"}\n",
    "if Drive:\n",
    "  from google.colab import drive\n",
    "  drive.mount('/content/drive')\n",
    "service = \"Cloudflare Argo Tunnel\" #@param {type:\"string\"} [\"Cloudflare Argo Tunnel\", \"NGROK tunnel (account required with token)\"]\n",
    "#@markdown ---\n",
    "print(\"Setting up ssh on machine..\")\n",
    "if service == \"Cloudflare Argo Tunnel\":\n",
    "    from colab_ssh import launch_ssh_cloudflared\n",
    "    launch_ssh_cloudflared(password=Password)\n",
    "elif service == \"NGROK tunnel (account required with token)\":\n",
    "    from colab_ssh import launch_ssh\n",
    "    print(\"Visit https://dashboard.ngrok.com/get-started/your-authtoken and copy token\")\n",
    "    token = input(\"Enter token: \")\n",
    "    print(\"Downloading and installing NGROK on machine..\")\n",
    "    launch_ssh(token=token, password=Password)\n",
    "    print(\"Login to your machine using the following command referring to details above\")\n",
    "    print(f\"\\nssh root@<HostName> -p <Port>\\n\")\n",
    "#@markdown ---\n",
    "print(\"Instance will be running to keep you connected with MAX 12 hours. You can close this tab after saving login details.\")\n",
    "!sleep 23423424234 "
   ]
  }
 ],
 "metadata": {
  "language_info": {
   "name": "python"
  },
  "orig_nbformat": 4
 },
 "nbformat": 4,
 "nbformat_minor": 2
}
