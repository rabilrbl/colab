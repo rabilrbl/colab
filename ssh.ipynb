{
 "cells": [
  {
   "cell_type": "code",
   "execution_count": null,
   "metadata": {},
   "outputs": [],
   "source": [
    "!pip install colab_ssh --upgrade\n",
    "from colab_ssh import launch_ssh_cloudflared\n",
    "import os\n",
    "#@markdown ---\n",
    "#@markdown # Setting up codespace machine\n",
    "#@markdown ***Set password for root to login.***\n",
    "Password = \"root\" #@param {type: \"string\"}\n",
    "#@markdown **Mount Google Drive ?**<br>\n",
    "#@markdown `Will behave like a normal drive attached to system with all your GDrive files`\n",
    "Drive = False #@param {type: \"boolean\"}\n",
    "if Drive:\n",
    "  from google.colab import drive\n",
    "  drive.mount('/content/drive')\n",
    "#@markdown ---\n",
    "print(\"Setting up ssh on machine..\")\n",
    "launch_ssh_cloudflared(password=Password)\n",
    "#@markdown ---\n",
    "print(\"Instance will be running to keep you connected with MAX 12 hours. You can close this tab after saving login details.\")\n",
    "!sleep 23423424234 "
   ]
  }
 ],
 "metadata": {
  "language_info": {
   "name": "python"
  },
  "orig_nbformat": 4
 },
 "nbformat": 4,
 "nbformat_minor": 2
}
